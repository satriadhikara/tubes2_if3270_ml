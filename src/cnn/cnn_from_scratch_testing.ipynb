{
 "cells": [
  {
   "cell_type": "markdown",
   "id": "e84290e9",
   "metadata": {},
   "source": [
    "# CNN From Scratch Testing\n",
    "\n",
    "This notebook tests the CNN implementation from scratch by comparing it with a trained Keras model. The goal is to verify that our from-scratch implementation produces similar results to the Keras model by loading the same weights."
   ]
  },
  {
   "cell_type": "markdown",
   "id": "fb8c1ac6",
   "metadata": {},
   "source": [
    "## Setup and Imports\n",
    "\n",
    "Import all necessary libraries and modules for testing."
   ]
  },
  {
   "cell_type": "code",
   "execution_count": 1,
   "id": "b20f304a",
   "metadata": {},
   "outputs": [],
   "source": [
    "import numpy as np\n",
    "import tensorflow as tf\n",
    "import keras\n",
    "import json\n",
    "import sys\n",
    "import os\n",
    "from sklearn.metrics import f1_score\n",
    "\n",
    "from from_scratch.layers import Conv2D, ReLU, MaxPooling2D, AveragePooling2D, Flatten, Dense, Softmax\n",
    "from from_scratch.model import CNNModelFromScratch\n",
    "from cnn_keras_training import load_and_preprocess_data, build_cnn_model"
   ]
  },
  {
   "cell_type": "markdown",
   "id": "8963188d",
   "metadata": {},
   "source": [
    "## Helper Functions\n",
    "\n",
    "Define functions to load the Keras model and build the from-scratch model with Keras weights."
   ]
  },
  {
   "cell_type": "code",
   "execution_count": 2,
   "id": "e0c70948",
   "metadata": {},
   "outputs": [],
   "source": [
    "def load_keras_model_and_weights(model_path, best_config, input_shape, num_classes):\n",
    "    \"\"\"\n",
    "    Loads a Keras model structure (based on best_config) and then loads weights.\n",
    "    \"\"\"\n",
    "    keras_model = build_cnn_model(\n",
    "        num_conv_layers=best_config['num_conv_layers'],\n",
    "        filters_per_layer=best_config['filters_per_layer'],\n",
    "        filter_size=best_config['filter_size'],\n",
    "        pooling_type=best_config['pooling_type'],\n",
    "        input_shape=input_shape,\n",
    "        num_classes=num_classes\n",
    "    )\n",
    "    keras_model.load_weights(model_path)\n",
    "    print(f\"Keras model loaded with weights from {model_path}\")\n",
    "    keras_model.summary()\n",
    "    return keras_model"
   ]
  },
  {
   "cell_type": "code",
   "execution_count": null,
   "id": "c05db306",
   "metadata": {},
   "outputs": [],
   "source": [
    "def build_from_scratch_model_with_keras_weights(keras_model_loaded):\n",
    "    \"\"\"\n",
    "    Builds the from-scratch model and loads weights from the Keras model.\n",
    "    \"\"\"\n",
    "    from_scratch_layers = []\n",
    "    \n",
    "    print(\"\\n--- Extracting Weights and Building From-Scratch Model ---\")\n",
    "    \n",
    "    idx = 0\n",
    "    keras_layer_idx = 0 \n",
    "    \n",
    "    while keras_layer_idx < len(keras_model_loaded.layers):\n",
    "        k_layer = keras_model_loaded.layers[keras_layer_idx]\n",
    "        print(f\"Processing Keras layer: {k_layer.name} of type {type(k_layer)}\")\n",
    "\n",
    "        if isinstance(k_layer, keras.layers.Conv2D):\n",
    "            weights, biases = k_layer.get_weights()\n",
    "\n",
    "            stride = k_layer.strides[0] \n",
    "            padding_keras = k_layer.padding \n",
    "            \n",
    "            padding_val = 0 \n",
    "            if padding_keras == 'same':\n",
    "                if stride == 1:\n",
    "                     padding_val = (weights.shape[0] - 1) // 2\n",
    "                else:\n",
    "                    print(f\"Warning: 'same' padding with stride > 1 for Conv2D {k_layer.name} might need manual calculation.\")\n",
    "                    padding_val = (weights.shape[0] - 1) // 2 \n",
    "\n",
    "            activation = None\n",
    "            if k_layer.activation == keras.activations.relu:\n",
    "                activation = 'relu'\n",
    "\n",
    "            fs_conv = Conv2D(weights, biases, stride=stride, padding=padding_val, activation=activation)\n",
    "            from_scratch_layers.append(fs_conv)\n",
    "            print(f\"  Added Conv2D: filters={weights.shape[3]}, kernel_size={weights.shape[0:2]}, stride={stride}, padding={padding_val}, activation={activation}\")\n",
    "            \n",
    "            keras_layer_idx += 1\n",
    "\n",
    "        elif isinstance(k_layer, (keras.layers.MaxPooling2D, keras.layers.AveragePooling2D)):\n",
    "            pool_size = k_layer.pool_size\n",
    "            stride = k_layer.strides[0] \n",
    "            if isinstance(k_layer, keras.layers.MaxPooling2D):\n",
    "                from_scratch_layers.append(MaxPooling2D(pool_size=pool_size, stride=stride))\n",
    "                print(f\"  Added MaxPooling2D: pool_size={pool_size}, stride={stride}\")\n",
    "            else:\n",
    "                from_scratch_layers.append(AveragePooling2D(pool_size=pool_size, stride=stride))\n",
    "                print(f\"  Added AveragePooling2D: pool_size={pool_size}, stride={stride}\")\n",
    "            keras_layer_idx += 1\n",
    "            \n",
    "        elif isinstance(k_layer, keras.layers.Flatten):\n",
    "            from_scratch_layers.append(Flatten())\n",
    "            print(\"  Added Flatten\")\n",
    "            keras_layer_idx += 1\n",
    "            \n",
    "        elif isinstance(k_layer, keras.layers.Dense):\n",
    "            weights, biases = k_layer.get_weights()\n",
    "\n",
    "            activation = None\n",
    "            if k_layer.activation == keras.activations.relu:\n",
    "                activation = 'relu'\n",
    "            elif k_layer.activation == keras.activations.softmax:\n",
    "                activation = 'softmax'\n",
    "            \n",
    "            from_scratch_layers.append(Dense(weights, biases, activation=activation))\n",
    "            print(f\"  Added Dense: units={weights.shape[1]}, activation={activation}\")\n",
    "            \n",
    "            keras_layer_idx += 1\n",
    "        \n",
    "        elif isinstance(k_layer, keras.layers.InputLayer): \n",
    "            print(f\"  Skipping InputLayer: {k_layer.name}\")\n",
    "            keras_layer_idx +=1\n",
    "        \n",
    "        else:\n",
    "            print(f\"Warning: Keras layer type {type(k_layer)} (name: {k_layer.name}) not handled for from-scratch model.\")\n",
    "            keras_layer_idx += 1\n",
    "\n",
    "    return CNNModelFromScratch(from_scratch_layers)"
   ]
  },
  {
   "cell_type": "markdown",
   "id": "f7aced4f",
   "metadata": {},
   "source": [
    "## Load Test Data and Model Configuration\n",
    "\n",
    "Load the test data and the best model configuration from training."
   ]
  },
  {
   "cell_type": "code",
   "execution_count": 4,
   "id": "4277f431",
   "metadata": {},
   "outputs": [
    {
     "name": "stdout",
     "output_type": "stream",
     "text": [
      "x_train shape: (40000, 32, 32, 3)\n",
      "y_train shape: (40000, 1)\n",
      "x_val shape: (10000, 32, 32, 3)\n",
      "y_val shape: (10000, 1)\n",
      "x_test shape: (10000, 32, 32, 3)\n",
      "y_test shape: (10000, 1)\n",
      "Test data shape: (10000, 32, 32, 3)\n",
      "Input shape: (32, 32, 3)\n",
      "Number of classes: 10\n"
     ]
    }
   ],
   "source": [
    "(_, _), (_, _), (x_test, y_test_true) = load_and_preprocess_data()\n",
    "input_shape = x_test.shape[1:]\n",
    "num_classes = np.max(y_test_true) + 1\n",
    "\n",
    "print(f\"Test data shape: {x_test.shape}\")\n",
    "print(f\"Input shape: {input_shape}\")\n",
    "print(f\"Number of classes: {num_classes}\")"
   ]
  },
  {
   "cell_type": "code",
   "execution_count": 5,
   "id": "f8bc8375",
   "metadata": {},
   "outputs": [
    {
     "name": "stdout",
     "output_type": "stream",
     "text": [
      "Loaded model config from best_model_config.json: {'num_conv_layers': 2, 'filters_per_layer': [32, 32], 'filter_size': [3, 3], 'pooling_type': 'max', 'final_f1_score': 0.5369205148986673}\n",
      "Best model config for loading: {'num_conv_layers': 2, 'filters_per_layer': [32, 32], 'filter_size': [3, 3], 'pooling_type': 'max'}\n"
     ]
    }
   ],
   "source": [
    "try:\n",
    "    with open('best_model_config.json', 'r') as f:\n",
    "        best_model_config_for_loading = json.load(f)\n",
    "    print(f'Loaded model config from best_model_config.json: {best_model_config_for_loading}')\n",
    "except FileNotFoundError:\n",
    "    print(\"best_model_config.json not found, using default config\")\n",
    "    # Fallback to default config\n",
    "    best_model_config_for_loading = {\n",
    "        'num_conv_layers': 2, \n",
    "        'filters_per_layer': [32, 32], \n",
    "        'filter_size': (3,3), \n",
    "        'pooling_type': 'max'\n",
    "    }\n",
    "\n",
    "model_config = {k: v for k, v in best_model_config_for_loading.items() if k != 'final_f1_score'}\n",
    "\n",
    "print('Best model config for loading:', model_config)"
   ]
  },
  {
   "cell_type": "markdown",
   "id": "4f62b299",
   "metadata": {},
   "source": [
    "## Build and Load Keras Model\n",
    "\n",
    "Build the Keras model architecture and load the trained weights."
   ]
  },
  {
   "cell_type": "code",
   "execution_count": 6,
   "id": "7afc2ea5",
   "metadata": {},
   "outputs": [
    {
     "name": "stderr",
     "output_type": "stream",
     "text": [
      "2025-05-28 00:31:56.455936: I metal_plugin/src/device/metal_device.cc:1154] Metal device set to: Apple M2 Pro\n",
      "2025-05-28 00:31:56.455971: I metal_plugin/src/device/metal_device.cc:296] systemMemory: 16.00 GB\n",
      "2025-05-28 00:31:56.455977: I metal_plugin/src/device/metal_device.cc:313] maxCacheSize: 5.33 GB\n",
      "WARNING: All log messages before absl::InitializeLog() is called are written to STDERR\n",
      "I0000 00:00:1748367116.456365 25610119 pluggable_device_factory.cc:305] Could not identify NUMA node of platform GPU ID 0, defaulting to 0. Your kernel may not have been built with NUMA support.\n",
      "I0000 00:00:1748367116.456556 25610119 pluggable_device_factory.cc:271] Created TensorFlow device (/job:localhost/replica:0/task:0/device:GPU:0 with 0 MB memory) -> physical PluggableDevice (device: 0, name: METAL, pci bus id: <undefined>)\n"
     ]
    },
    {
     "data": {
      "text/html": [
       "<pre style=\"white-space:pre;overflow-x:auto;line-height:normal;font-family:Menlo,'DejaVu Sans Mono',consolas,'Courier New',monospace\"><span style=\"font-weight: bold\">Model: \"sequential\"</span>\n",
       "</pre>\n"
      ],
      "text/plain": [
       "\u001b[1mModel: \"sequential\"\u001b[0m\n"
      ]
     },
     "metadata": {},
     "output_type": "display_data"
    },
    {
     "data": {
      "text/html": [
       "<pre style=\"white-space:pre;overflow-x:auto;line-height:normal;font-family:Menlo,'DejaVu Sans Mono',consolas,'Courier New',monospace\">┏━━━━━━━━━━━━━━━━━━━━━━━━━━━━━━━━━┳━━━━━━━━━━━━━━━━━━━━━━━━┳━━━━━━━━━━━━━━━┓\n",
       "┃<span style=\"font-weight: bold\"> Layer (type)                    </span>┃<span style=\"font-weight: bold\"> Output Shape           </span>┃<span style=\"font-weight: bold\">       Param # </span>┃\n",
       "┡━━━━━━━━━━━━━━━━━━━━━━━━━━━━━━━━━╇━━━━━━━━━━━━━━━━━━━━━━━━╇━━━━━━━━━━━━━━━┩\n",
       "│ conv2d (<span style=\"color: #0087ff; text-decoration-color: #0087ff\">Conv2D</span>)                 │ (<span style=\"color: #00d7ff; text-decoration-color: #00d7ff\">None</span>, <span style=\"color: #00af00; text-decoration-color: #00af00\">32</span>, <span style=\"color: #00af00; text-decoration-color: #00af00\">32</span>, <span style=\"color: #00af00; text-decoration-color: #00af00\">32</span>)     │           <span style=\"color: #00af00; text-decoration-color: #00af00\">896</span> │\n",
       "├─────────────────────────────────┼────────────────────────┼───────────────┤\n",
       "│ max_pooling2d (<span style=\"color: #0087ff; text-decoration-color: #0087ff\">MaxPooling2D</span>)    │ (<span style=\"color: #00d7ff; text-decoration-color: #00d7ff\">None</span>, <span style=\"color: #00af00; text-decoration-color: #00af00\">16</span>, <span style=\"color: #00af00; text-decoration-color: #00af00\">16</span>, <span style=\"color: #00af00; text-decoration-color: #00af00\">32</span>)     │             <span style=\"color: #00af00; text-decoration-color: #00af00\">0</span> │\n",
       "├─────────────────────────────────┼────────────────────────┼───────────────┤\n",
       "│ conv2d_1 (<span style=\"color: #0087ff; text-decoration-color: #0087ff\">Conv2D</span>)               │ (<span style=\"color: #00d7ff; text-decoration-color: #00d7ff\">None</span>, <span style=\"color: #00af00; text-decoration-color: #00af00\">16</span>, <span style=\"color: #00af00; text-decoration-color: #00af00\">16</span>, <span style=\"color: #00af00; text-decoration-color: #00af00\">32</span>)     │         <span style=\"color: #00af00; text-decoration-color: #00af00\">9,248</span> │\n",
       "├─────────────────────────────────┼────────────────────────┼───────────────┤\n",
       "│ max_pooling2d_1 (<span style=\"color: #0087ff; text-decoration-color: #0087ff\">MaxPooling2D</span>)  │ (<span style=\"color: #00d7ff; text-decoration-color: #00d7ff\">None</span>, <span style=\"color: #00af00; text-decoration-color: #00af00\">8</span>, <span style=\"color: #00af00; text-decoration-color: #00af00\">8</span>, <span style=\"color: #00af00; text-decoration-color: #00af00\">32</span>)       │             <span style=\"color: #00af00; text-decoration-color: #00af00\">0</span> │\n",
       "├─────────────────────────────────┼────────────────────────┼───────────────┤\n",
       "│ flatten (<span style=\"color: #0087ff; text-decoration-color: #0087ff\">Flatten</span>)               │ (<span style=\"color: #00d7ff; text-decoration-color: #00d7ff\">None</span>, <span style=\"color: #00af00; text-decoration-color: #00af00\">2048</span>)           │             <span style=\"color: #00af00; text-decoration-color: #00af00\">0</span> │\n",
       "├─────────────────────────────────┼────────────────────────┼───────────────┤\n",
       "│ dense (<span style=\"color: #0087ff; text-decoration-color: #0087ff\">Dense</span>)                   │ (<span style=\"color: #00d7ff; text-decoration-color: #00d7ff\">None</span>, <span style=\"color: #00af00; text-decoration-color: #00af00\">128</span>)            │       <span style=\"color: #00af00; text-decoration-color: #00af00\">262,272</span> │\n",
       "├─────────────────────────────────┼────────────────────────┼───────────────┤\n",
       "│ dense_1 (<span style=\"color: #0087ff; text-decoration-color: #0087ff\">Dense</span>)                 │ (<span style=\"color: #00d7ff; text-decoration-color: #00d7ff\">None</span>, <span style=\"color: #00af00; text-decoration-color: #00af00\">10</span>)             │         <span style=\"color: #00af00; text-decoration-color: #00af00\">1,290</span> │\n",
       "└─────────────────────────────────┴────────────────────────┴───────────────┘\n",
       "</pre>\n"
      ],
      "text/plain": [
       "┏━━━━━━━━━━━━━━━━━━━━━━━━━━━━━━━━━┳━━━━━━━━━━━━━━━━━━━━━━━━┳━━━━━━━━━━━━━━━┓\n",
       "┃\u001b[1m \u001b[0m\u001b[1mLayer (type)                   \u001b[0m\u001b[1m \u001b[0m┃\u001b[1m \u001b[0m\u001b[1mOutput Shape          \u001b[0m\u001b[1m \u001b[0m┃\u001b[1m \u001b[0m\u001b[1m      Param #\u001b[0m\u001b[1m \u001b[0m┃\n",
       "┡━━━━━━━━━━━━━━━━━━━━━━━━━━━━━━━━━╇━━━━━━━━━━━━━━━━━━━━━━━━╇━━━━━━━━━━━━━━━┩\n",
       "│ conv2d (\u001b[38;5;33mConv2D\u001b[0m)                 │ (\u001b[38;5;45mNone\u001b[0m, \u001b[38;5;34m32\u001b[0m, \u001b[38;5;34m32\u001b[0m, \u001b[38;5;34m32\u001b[0m)     │           \u001b[38;5;34m896\u001b[0m │\n",
       "├─────────────────────────────────┼────────────────────────┼───────────────┤\n",
       "│ max_pooling2d (\u001b[38;5;33mMaxPooling2D\u001b[0m)    │ (\u001b[38;5;45mNone\u001b[0m, \u001b[38;5;34m16\u001b[0m, \u001b[38;5;34m16\u001b[0m, \u001b[38;5;34m32\u001b[0m)     │             \u001b[38;5;34m0\u001b[0m │\n",
       "├─────────────────────────────────┼────────────────────────┼───────────────┤\n",
       "│ conv2d_1 (\u001b[38;5;33mConv2D\u001b[0m)               │ (\u001b[38;5;45mNone\u001b[0m, \u001b[38;5;34m16\u001b[0m, \u001b[38;5;34m16\u001b[0m, \u001b[38;5;34m32\u001b[0m)     │         \u001b[38;5;34m9,248\u001b[0m │\n",
       "├─────────────────────────────────┼────────────────────────┼───────────────┤\n",
       "│ max_pooling2d_1 (\u001b[38;5;33mMaxPooling2D\u001b[0m)  │ (\u001b[38;5;45mNone\u001b[0m, \u001b[38;5;34m8\u001b[0m, \u001b[38;5;34m8\u001b[0m, \u001b[38;5;34m32\u001b[0m)       │             \u001b[38;5;34m0\u001b[0m │\n",
       "├─────────────────────────────────┼────────────────────────┼───────────────┤\n",
       "│ flatten (\u001b[38;5;33mFlatten\u001b[0m)               │ (\u001b[38;5;45mNone\u001b[0m, \u001b[38;5;34m2048\u001b[0m)           │             \u001b[38;5;34m0\u001b[0m │\n",
       "├─────────────────────────────────┼────────────────────────┼───────────────┤\n",
       "│ dense (\u001b[38;5;33mDense\u001b[0m)                   │ (\u001b[38;5;45mNone\u001b[0m, \u001b[38;5;34m128\u001b[0m)            │       \u001b[38;5;34m262,272\u001b[0m │\n",
       "├─────────────────────────────────┼────────────────────────┼───────────────┤\n",
       "│ dense_1 (\u001b[38;5;33mDense\u001b[0m)                 │ (\u001b[38;5;45mNone\u001b[0m, \u001b[38;5;34m10\u001b[0m)             │         \u001b[38;5;34m1,290\u001b[0m │\n",
       "└─────────────────────────────────┴────────────────────────┴───────────────┘\n"
      ]
     },
     "metadata": {},
     "output_type": "display_data"
    },
    {
     "data": {
      "text/html": [
       "<pre style=\"white-space:pre;overflow-x:auto;line-height:normal;font-family:Menlo,'DejaVu Sans Mono',consolas,'Courier New',monospace\"><span style=\"font-weight: bold\"> Total params: </span><span style=\"color: #00af00; text-decoration-color: #00af00\">273,706</span> (1.04 MB)\n",
       "</pre>\n"
      ],
      "text/plain": [
       "\u001b[1m Total params: \u001b[0m\u001b[38;5;34m273,706\u001b[0m (1.04 MB)\n"
      ]
     },
     "metadata": {},
     "output_type": "display_data"
    },
    {
     "data": {
      "text/html": [
       "<pre style=\"white-space:pre;overflow-x:auto;line-height:normal;font-family:Menlo,'DejaVu Sans Mono',consolas,'Courier New',monospace\"><span style=\"font-weight: bold\"> Trainable params: </span><span style=\"color: #00af00; text-decoration-color: #00af00\">273,706</span> (1.04 MB)\n",
       "</pre>\n"
      ],
      "text/plain": [
       "\u001b[1m Trainable params: \u001b[0m\u001b[38;5;34m273,706\u001b[0m (1.04 MB)\n"
      ]
     },
     "metadata": {},
     "output_type": "display_data"
    },
    {
     "data": {
      "text/html": [
       "<pre style=\"white-space:pre;overflow-x:auto;line-height:normal;font-family:Menlo,'DejaVu Sans Mono',consolas,'Courier New',monospace\"><span style=\"font-weight: bold\"> Non-trainable params: </span><span style=\"color: #00af00; text-decoration-color: #00af00\">0</span> (0.00 B)\n",
       "</pre>\n"
      ],
      "text/plain": [
       "\u001b[1m Non-trainable params: \u001b[0m\u001b[38;5;34m0\u001b[0m (0.00 B)\n"
      ]
     },
     "metadata": {},
     "output_type": "display_data"
    }
   ],
   "source": [
    "model = build_cnn_model(**model_config, input_shape=input_shape, num_classes=num_classes)\n",
    "model.summary()\n",
    "keras_model_path = 'cnn_keras_final.weights.h5'"
   ]
  },
  {
   "cell_type": "code",
   "execution_count": 7,
   "id": "37cb02d1",
   "metadata": {},
   "outputs": [
    {
     "name": "stdout",
     "output_type": "stream",
     "text": [
      "Flatten output shape: (1, 2048)\n"
     ]
    }
   ],
   "source": [
    "dummy_input = np.zeros((1,) + input_shape, dtype=np.float32)\n",
    "flatten_output_shape = None\n",
    "for i, layer in enumerate(model.layers):\n",
    "    dummy_input = layer(dummy_input)\n",
    "    if isinstance(layer, keras.layers.Flatten):\n",
    "        flatten_output_shape = dummy_input.shape\n",
    "        break\n",
    "print('Flatten output shape:', flatten_output_shape)"
   ]
  },
  {
   "cell_type": "code",
   "execution_count": 8,
   "id": "f19a2534",
   "metadata": {},
   "outputs": [
    {
     "name": "stdout",
     "output_type": "stream",
     "text": [
      "Keras model loaded with weights from cnn_keras_final.weights.h5\n"
     ]
    },
    {
     "name": "stderr",
     "output_type": "stream",
     "text": [
      "/Users/satriadhikara/Developments/Kuliah/Semester-6/Machine-Learning/tubes2_if3270_ml/.venv/lib/python3.12/site-packages/keras/src/saving/saving_lib.py:757: UserWarning: Skipping variable loading for optimizer 'adam', because it has 2 variables whereas the saved optimizer has 18 variables. \n",
      "  saveable.load_own_variables(weights_store.get(inner_path))\n"
     ]
    },
    {
     "data": {
      "text/html": [
       "<pre style=\"white-space:pre;overflow-x:auto;line-height:normal;font-family:Menlo,'DejaVu Sans Mono',consolas,'Courier New',monospace\"><span style=\"font-weight: bold\">Model: \"sequential_1\"</span>\n",
       "</pre>\n"
      ],
      "text/plain": [
       "\u001b[1mModel: \"sequential_1\"\u001b[0m\n"
      ]
     },
     "metadata": {},
     "output_type": "display_data"
    },
    {
     "data": {
      "text/html": [
       "<pre style=\"white-space:pre;overflow-x:auto;line-height:normal;font-family:Menlo,'DejaVu Sans Mono',consolas,'Courier New',monospace\">┏━━━━━━━━━━━━━━━━━━━━━━━━━━━━━━━━━┳━━━━━━━━━━━━━━━━━━━━━━━━┳━━━━━━━━━━━━━━━┓\n",
       "┃<span style=\"font-weight: bold\"> Layer (type)                    </span>┃<span style=\"font-weight: bold\"> Output Shape           </span>┃<span style=\"font-weight: bold\">       Param # </span>┃\n",
       "┡━━━━━━━━━━━━━━━━━━━━━━━━━━━━━━━━━╇━━━━━━━━━━━━━━━━━━━━━━━━╇━━━━━━━━━━━━━━━┩\n",
       "│ conv2d_2 (<span style=\"color: #0087ff; text-decoration-color: #0087ff\">Conv2D</span>)               │ (<span style=\"color: #00d7ff; text-decoration-color: #00d7ff\">None</span>, <span style=\"color: #00af00; text-decoration-color: #00af00\">32</span>, <span style=\"color: #00af00; text-decoration-color: #00af00\">32</span>, <span style=\"color: #00af00; text-decoration-color: #00af00\">32</span>)     │           <span style=\"color: #00af00; text-decoration-color: #00af00\">896</span> │\n",
       "├─────────────────────────────────┼────────────────────────┼───────────────┤\n",
       "│ max_pooling2d_2 (<span style=\"color: #0087ff; text-decoration-color: #0087ff\">MaxPooling2D</span>)  │ (<span style=\"color: #00d7ff; text-decoration-color: #00d7ff\">None</span>, <span style=\"color: #00af00; text-decoration-color: #00af00\">16</span>, <span style=\"color: #00af00; text-decoration-color: #00af00\">16</span>, <span style=\"color: #00af00; text-decoration-color: #00af00\">32</span>)     │             <span style=\"color: #00af00; text-decoration-color: #00af00\">0</span> │\n",
       "├─────────────────────────────────┼────────────────────────┼───────────────┤\n",
       "│ conv2d_3 (<span style=\"color: #0087ff; text-decoration-color: #0087ff\">Conv2D</span>)               │ (<span style=\"color: #00d7ff; text-decoration-color: #00d7ff\">None</span>, <span style=\"color: #00af00; text-decoration-color: #00af00\">16</span>, <span style=\"color: #00af00; text-decoration-color: #00af00\">16</span>, <span style=\"color: #00af00; text-decoration-color: #00af00\">32</span>)     │         <span style=\"color: #00af00; text-decoration-color: #00af00\">9,248</span> │\n",
       "├─────────────────────────────────┼────────────────────────┼───────────────┤\n",
       "│ max_pooling2d_3 (<span style=\"color: #0087ff; text-decoration-color: #0087ff\">MaxPooling2D</span>)  │ (<span style=\"color: #00d7ff; text-decoration-color: #00d7ff\">None</span>, <span style=\"color: #00af00; text-decoration-color: #00af00\">8</span>, <span style=\"color: #00af00; text-decoration-color: #00af00\">8</span>, <span style=\"color: #00af00; text-decoration-color: #00af00\">32</span>)       │             <span style=\"color: #00af00; text-decoration-color: #00af00\">0</span> │\n",
       "├─────────────────────────────────┼────────────────────────┼───────────────┤\n",
       "│ flatten_1 (<span style=\"color: #0087ff; text-decoration-color: #0087ff\">Flatten</span>)             │ (<span style=\"color: #00d7ff; text-decoration-color: #00d7ff\">None</span>, <span style=\"color: #00af00; text-decoration-color: #00af00\">2048</span>)           │             <span style=\"color: #00af00; text-decoration-color: #00af00\">0</span> │\n",
       "├─────────────────────────────────┼────────────────────────┼───────────────┤\n",
       "│ dense_2 (<span style=\"color: #0087ff; text-decoration-color: #0087ff\">Dense</span>)                 │ (<span style=\"color: #00d7ff; text-decoration-color: #00d7ff\">None</span>, <span style=\"color: #00af00; text-decoration-color: #00af00\">128</span>)            │       <span style=\"color: #00af00; text-decoration-color: #00af00\">262,272</span> │\n",
       "├─────────────────────────────────┼────────────────────────┼───────────────┤\n",
       "│ dense_3 (<span style=\"color: #0087ff; text-decoration-color: #0087ff\">Dense</span>)                 │ (<span style=\"color: #00d7ff; text-decoration-color: #00d7ff\">None</span>, <span style=\"color: #00af00; text-decoration-color: #00af00\">10</span>)             │         <span style=\"color: #00af00; text-decoration-color: #00af00\">1,290</span> │\n",
       "└─────────────────────────────────┴────────────────────────┴───────────────┘\n",
       "</pre>\n"
      ],
      "text/plain": [
       "┏━━━━━━━━━━━━━━━━━━━━━━━━━━━━━━━━━┳━━━━━━━━━━━━━━━━━━━━━━━━┳━━━━━━━━━━━━━━━┓\n",
       "┃\u001b[1m \u001b[0m\u001b[1mLayer (type)                   \u001b[0m\u001b[1m \u001b[0m┃\u001b[1m \u001b[0m\u001b[1mOutput Shape          \u001b[0m\u001b[1m \u001b[0m┃\u001b[1m \u001b[0m\u001b[1m      Param #\u001b[0m\u001b[1m \u001b[0m┃\n",
       "┡━━━━━━━━━━━━━━━━━━━━━━━━━━━━━━━━━╇━━━━━━━━━━━━━━━━━━━━━━━━╇━━━━━━━━━━━━━━━┩\n",
       "│ conv2d_2 (\u001b[38;5;33mConv2D\u001b[0m)               │ (\u001b[38;5;45mNone\u001b[0m, \u001b[38;5;34m32\u001b[0m, \u001b[38;5;34m32\u001b[0m, \u001b[38;5;34m32\u001b[0m)     │           \u001b[38;5;34m896\u001b[0m │\n",
       "├─────────────────────────────────┼────────────────────────┼───────────────┤\n",
       "│ max_pooling2d_2 (\u001b[38;5;33mMaxPooling2D\u001b[0m)  │ (\u001b[38;5;45mNone\u001b[0m, \u001b[38;5;34m16\u001b[0m, \u001b[38;5;34m16\u001b[0m, \u001b[38;5;34m32\u001b[0m)     │             \u001b[38;5;34m0\u001b[0m │\n",
       "├─────────────────────────────────┼────────────────────────┼───────────────┤\n",
       "│ conv2d_3 (\u001b[38;5;33mConv2D\u001b[0m)               │ (\u001b[38;5;45mNone\u001b[0m, \u001b[38;5;34m16\u001b[0m, \u001b[38;5;34m16\u001b[0m, \u001b[38;5;34m32\u001b[0m)     │         \u001b[38;5;34m9,248\u001b[0m │\n",
       "├─────────────────────────────────┼────────────────────────┼───────────────┤\n",
       "│ max_pooling2d_3 (\u001b[38;5;33mMaxPooling2D\u001b[0m)  │ (\u001b[38;5;45mNone\u001b[0m, \u001b[38;5;34m8\u001b[0m, \u001b[38;5;34m8\u001b[0m, \u001b[38;5;34m32\u001b[0m)       │             \u001b[38;5;34m0\u001b[0m │\n",
       "├─────────────────────────────────┼────────────────────────┼───────────────┤\n",
       "│ flatten_1 (\u001b[38;5;33mFlatten\u001b[0m)             │ (\u001b[38;5;45mNone\u001b[0m, \u001b[38;5;34m2048\u001b[0m)           │             \u001b[38;5;34m0\u001b[0m │\n",
       "├─────────────────────────────────┼────────────────────────┼───────────────┤\n",
       "│ dense_2 (\u001b[38;5;33mDense\u001b[0m)                 │ (\u001b[38;5;45mNone\u001b[0m, \u001b[38;5;34m128\u001b[0m)            │       \u001b[38;5;34m262,272\u001b[0m │\n",
       "├─────────────────────────────────┼────────────────────────┼───────────────┤\n",
       "│ dense_3 (\u001b[38;5;33mDense\u001b[0m)                 │ (\u001b[38;5;45mNone\u001b[0m, \u001b[38;5;34m10\u001b[0m)             │         \u001b[38;5;34m1,290\u001b[0m │\n",
       "└─────────────────────────────────┴────────────────────────┴───────────────┘\n"
      ]
     },
     "metadata": {},
     "output_type": "display_data"
    },
    {
     "data": {
      "text/html": [
       "<pre style=\"white-space:pre;overflow-x:auto;line-height:normal;font-family:Menlo,'DejaVu Sans Mono',consolas,'Courier New',monospace\"><span style=\"font-weight: bold\"> Total params: </span><span style=\"color: #00af00; text-decoration-color: #00af00\">273,706</span> (1.04 MB)\n",
       "</pre>\n"
      ],
      "text/plain": [
       "\u001b[1m Total params: \u001b[0m\u001b[38;5;34m273,706\u001b[0m (1.04 MB)\n"
      ]
     },
     "metadata": {},
     "output_type": "display_data"
    },
    {
     "data": {
      "text/html": [
       "<pre style=\"white-space:pre;overflow-x:auto;line-height:normal;font-family:Menlo,'DejaVu Sans Mono',consolas,'Courier New',monospace\"><span style=\"font-weight: bold\"> Trainable params: </span><span style=\"color: #00af00; text-decoration-color: #00af00\">273,706</span> (1.04 MB)\n",
       "</pre>\n"
      ],
      "text/plain": [
       "\u001b[1m Trainable params: \u001b[0m\u001b[38;5;34m273,706\u001b[0m (1.04 MB)\n"
      ]
     },
     "metadata": {},
     "output_type": "display_data"
    },
    {
     "data": {
      "text/html": [
       "<pre style=\"white-space:pre;overflow-x:auto;line-height:normal;font-family:Menlo,'DejaVu Sans Mono',consolas,'Courier New',monospace\"><span style=\"font-weight: bold\"> Non-trainable params: </span><span style=\"color: #00af00; text-decoration-color: #00af00\">0</span> (0.00 B)\n",
       "</pre>\n"
      ],
      "text/plain": [
       "\u001b[1m Non-trainable params: \u001b[0m\u001b[38;5;34m0\u001b[0m (0.00 B)\n"
      ]
     },
     "metadata": {},
     "output_type": "display_data"
    }
   ],
   "source": [
    "try:\n",
    "    loaded_keras_model = load_keras_model_and_weights(keras_model_path, model_config, input_shape, num_classes)\n",
    "except Exception as e:\n",
    "    print(f\"Error loading Keras model: {e}\")\n",
    "    print(\"Please ensure 'cnn_keras_final.weights.h5' exists and 'best_model_config_for_loading' matches its architecture.\")\n",
    "    print(\"If you see a shape mismatch, check the output shape of the Flatten layer in both training and testing.\")\n",
    "    raise"
   ]
  },
  {
   "cell_type": "markdown",
   "id": "7a267b89",
   "metadata": {},
   "source": [
    "## Build From-Scratch Model with Keras Weights\n",
    "\n",
    "Build the from-scratch CNN model and transfer the weights from the Keras model."
   ]
  },
  {
   "cell_type": "code",
   "execution_count": 9,
   "id": "61c81a75",
   "metadata": {},
   "outputs": [
    {
     "name": "stdout",
     "output_type": "stream",
     "text": [
      "\n",
      "--- Extracting Weights and Building From-Scratch Model ---\n",
      "Processing Keras layer: conv2d_2 of type <class 'keras.src.layers.convolutional.conv2d.Conv2D'>\n",
      "  Added Conv2D: filters=32, kernel_size=(3, 3), stride=1, padding=1, activation=relu\n",
      "Processing Keras layer: max_pooling2d_2 of type <class 'keras.src.layers.pooling.max_pooling2d.MaxPooling2D'>\n",
      "  Added MaxPooling2D: pool_size=(2, 2), stride=2\n",
      "Processing Keras layer: conv2d_3 of type <class 'keras.src.layers.convolutional.conv2d.Conv2D'>\n",
      "  Added Conv2D: filters=32, kernel_size=(3, 3), stride=1, padding=1, activation=relu\n",
      "Processing Keras layer: max_pooling2d_3 of type <class 'keras.src.layers.pooling.max_pooling2d.MaxPooling2D'>\n",
      "  Added MaxPooling2D: pool_size=(2, 2), stride=2\n",
      "Processing Keras layer: flatten_1 of type <class 'keras.src.layers.reshaping.flatten.Flatten'>\n",
      "  Added Flatten\n",
      "Processing Keras layer: dense_2 of type <class 'keras.src.layers.core.dense.Dense'>\n",
      "  Added Dense: units=128, activation=relu\n",
      "Processing Keras layer: dense_3 of type <class 'keras.src.layers.core.dense.Dense'>\n",
      "  Added Dense: units=10, activation=softmax\n"
     ]
    }
   ],
   "source": [
    "fs_model = build_from_scratch_model_with_keras_weights(loaded_keras_model)\n",
    "\n",
    "if not fs_model.layers:\n",
    "    print(\"From-scratch model has no layers. Weight loading likely failed or was incomplete.\")\n",
    "    raise ValueError(\"From-scratch model construction failed\")"
   ]
  },
  {
   "cell_type": "code",
   "execution_count": 10,
   "id": "ea495c9c",
   "metadata": {},
   "outputs": [
    {
     "name": "stdout",
     "output_type": "stream",
     "text": [
      "\n",
      "--- From-Scratch Model Structure (7 layers) ---\n",
      "Layer 0: <class 'from_scratch.layers.Conv2D'>\n",
      "  Weights shape: (3, 3, 3, 32)\n",
      "  Biases shape: (32,)\n",
      "Layer 1: <class 'from_scratch.layers.MaxPooling2D'>\n",
      "Layer 2: <class 'from_scratch.layers.Conv2D'>\n",
      "  Weights shape: (3, 3, 32, 32)\n",
      "  Biases shape: (32,)\n",
      "Layer 3: <class 'from_scratch.layers.MaxPooling2D'>\n",
      "Layer 4: <class 'from_scratch.layers.Flatten'>\n",
      "Layer 5: <class 'from_scratch.layers.Dense'>\n",
      "  Weights shape: (2048, 128)\n",
      "  Biases shape: (128,)\n",
      "Layer 6: <class 'from_scratch.layers.Dense'>\n",
      "  Weights shape: (128, 10)\n",
      "  Biases shape: (10,)\n"
     ]
    }
   ],
   "source": [
    "print(f\"\\n--- From-Scratch Model Structure ({len(fs_model.layers)} layers) ---\")\n",
    "for i, layer in enumerate(fs_model.layers):\n",
    "    print(f\"Layer {i}: {type(layer)}\")\n",
    "    if hasattr(layer, 'weights') and layer.weights is not None:\n",
    "        print(f\"  Weights shape: {layer.weights.shape}\")\n",
    "    if hasattr(layer, 'biases') and layer.biases is not None:\n",
    "        print(f\"  Biases shape: {layer.biases.shape}\")"
   ]
  },
  {
   "cell_type": "markdown",
   "id": "a217bd40",
   "metadata": {},
   "source": [
    "## Test on Sample Data\n",
    "\n",
    "First, test both models on a small subset of data to verify they work correctly."
   ]
  },
  {
   "cell_type": "code",
   "execution_count": 11,
   "id": "ae3e9b21",
   "metadata": {},
   "outputs": [
    {
     "name": "stdout",
     "output_type": "stream",
     "text": [
      "\n",
      "--- Making predictions on 100 samples ---\n"
     ]
    }
   ],
   "source": [
    "sample_x_test = x_test[:100] \n",
    "sample_y_test_true = y_test_true[:100].flatten()\n",
    "\n",
    "print(f\"\\n--- Making predictions on {len(sample_x_test)} samples ---\")"
   ]
  },
  {
   "cell_type": "code",
   "execution_count": 12,
   "id": "554ec478",
   "metadata": {},
   "outputs": [
    {
     "name": "stdout",
     "output_type": "stream",
     "text": [
      "Keras predictions shape: (100, 10)\n",
      "Keras predicted labels shape: (100,)\n"
     ]
    }
   ],
   "source": [
    "keras_pred_proba = loaded_keras_model(sample_x_test, training=False).numpy()\n",
    "keras_pred_labels = np.argmax(keras_pred_proba, axis=1)\n",
    "\n",
    "print(f\"Keras predictions shape: {keras_pred_proba.shape}\")\n",
    "print(f\"Keras predicted labels shape: {keras_pred_labels.shape}\")"
   ]
  },
  {
   "cell_type": "code",
   "execution_count": 13,
   "id": "a1ea5d13",
   "metadata": {},
   "outputs": [
    {
     "name": "stdout",
     "output_type": "stream",
     "text": [
      "From-scratch predicted labels shape: (100,)\n"
     ]
    }
   ],
   "source": [
    "fs_pred_labels = fs_model.predict(sample_x_test)\n",
    "\n",
    "print(f\"From-scratch predicted labels shape: {fs_pred_labels.shape}\")"
   ]
  },
  {
   "cell_type": "markdown",
   "id": "879e8ee1",
   "metadata": {},
   "source": [
    "## Compare Sample Results\n",
    "\n",
    "Compare the F1 scores and predictions between Keras and from-scratch models on the sample data."
   ]
  },
  {
   "cell_type": "code",
   "execution_count": 14,
   "id": "4217c4a4",
   "metadata": {},
   "outputs": [
    {
     "name": "stdout",
     "output_type": "stream",
     "text": [
      "\n",
      "--- Comparison on 100 samples ---\n",
      "Keras Model Macro F1-Score: 0.3244\n",
      "From-Scratch Model Macro F1-Score: 0.3244\n"
     ]
    }
   ],
   "source": [
    "# 5. Compare Outputs (Macro F1-Score)\n",
    "keras_f1 = f1_score(sample_y_test_true, keras_pred_labels, average='macro', zero_division=0)\n",
    "fs_f1 = f1_score(sample_y_test_true, fs_pred_labels, average='macro', zero_division=0)\n",
    "\n",
    "print(f\"\\n--- Comparison on {len(sample_x_test)} samples ---\")\n",
    "print(f\"Keras Model Macro F1-Score: {keras_f1:.4f}\")\n",
    "print(f\"From-Scratch Model Macro F1-Score: {fs_f1:.4f}\")"
   ]
  },
  {
   "cell_type": "code",
   "execution_count": 15,
   "id": "5ad356cf",
   "metadata": {},
   "outputs": [
    {
     "name": "stdout",
     "output_type": "stream",
     "text": [
      "\n",
      "First 10 Keras predictions: [3 1 1 0 4 6 1 6 3 1]\n",
      "First 10 From-Scratch predictions: [3 1 1 0 4 6 1 6 3 1]\n",
      "First 10 True labels: [3 8 8 0 6 6 1 6 3 1]\n",
      "\n",
      "SUCCESS: The F1 scores are very close!\n"
     ]
    }
   ],
   "source": [
    "# Example: Compare first 5 predictions\n",
    "print(\"\\nFirst 10 Keras predictions:\", keras_pred_labels[:10])\n",
    "print(\"First 10 From-Scratch predictions:\", fs_pred_labels[:10])\n",
    "print(\"First 10 True labels:\", sample_y_test_true[:10])\n",
    "\n",
    "if np.allclose(keras_f1, fs_f1, atol=0.01): # Allow a small tolerance\n",
    "    print(\"\\nSUCCESS: The F1 scores are very close!\")\n",
    "else:\n",
    "    print(\"\\nNOTICE: F1 scores differ. Further debugging of from-scratch layers or weight loading might be needed.\")\n",
    "    if np.array_equal(keras_pred_labels, fs_pred_labels):\n",
    "        print(\"However, the predicted labels are identical for this sample.\")\n",
    "    else:\n",
    "        differences = np.sum(keras_pred_labels != fs_pred_labels)\n",
    "        print(f\"Predicted labels differ for {differences}/{len(sample_x_test)} samples.\")"
   ]
  },
  {
   "cell_type": "markdown",
   "id": "e1efcf2f",
   "metadata": {},
   "source": [
    "## Test on Full Dataset\n",
    "\n",
    "Run the comparison on the complete test set to get final performance metrics."
   ]
  },
  {
   "cell_type": "code",
   "execution_count": 16,
   "id": "b89c1401",
   "metadata": {},
   "outputs": [
    {
     "name": "stdout",
     "output_type": "stream",
     "text": [
      "\n",
      "--- Running on FULL Test Set ---\n",
      "Keras full predictions computed: (10000,)\n"
     ]
    }
   ],
   "source": [
    "# Test on the full test set if sample test is successful\n",
    "print(\"\\n--- Running on FULL Test Set ---\")\n",
    "keras_full_pred_proba = loaded_keras_model(x_test, training=False).numpy()\n",
    "keras_full_pred_labels = np.argmax(keras_full_pred_proba, axis=1)\n",
    "\n",
    "print(f\"Keras full predictions computed: {keras_full_pred_labels.shape}\")"
   ]
  },
  {
   "cell_type": "code",
   "execution_count": 17,
   "id": "9b41779d",
   "metadata": {},
   "outputs": [
    {
     "name": "stdout",
     "output_type": "stream",
     "text": [
      "From-scratch full predictions computed: (10000,)\n"
     ]
    }
   ],
   "source": [
    "fs_full_pred_labels = fs_model.predict(x_test)\n",
    "\n",
    "print(f\"From-scratch full predictions computed: {fs_full_pred_labels.shape}\")"
   ]
  },
  {
   "cell_type": "code",
   "execution_count": 20,
   "id": "e3a53760",
   "metadata": {},
   "outputs": [
    {
     "name": "stdout",
     "output_type": "stream",
     "text": [
      "Keras Model Macro F1-Score (Full Test Set): 0.3430\n",
      "From-Scratch Model Macro F1-Score (Full Test Set): 0.3430\n",
      "\n",
      "SUCCESS on Full Test Set: The F1 scores are very close!\n"
     ]
    }
   ],
   "source": [
    "keras_full_f1 = f1_score(y_test_true.flatten(), keras_full_pred_labels, average='macro', zero_division=0)\n",
    "fs_full_f1 = f1_score(y_test_true.flatten(), fs_full_pred_labels, average='macro', zero_division=0)\n",
    "\n",
    "print(f\"Keras Model Macro F1-Score (Full Test Set): {keras_full_f1:.4f}\")\n",
    "print(f\"From-Scratch Model Macro F1-Score (Full Test Set): {fs_full_f1:.4f}\")\n",
    "\n",
    "if np.allclose(keras_full_f1, fs_full_f1, atol=0.01):\n",
    "    print(\"\\nSUCCESS on Full Test Set: The F1 scores are very close!\")\n",
    "else:\n",
    "    print(\"\\nNOTICE on Full Test Set: F1 scores differ.\")"
   ]
  }
 ],
 "metadata": {
  "kernelspec": {
   "display_name": ".venv",
   "language": "python",
   "name": "python3"
  },
  "language_info": {
   "codemirror_mode": {
    "name": "ipython",
    "version": 3
   },
   "file_extension": ".py",
   "mimetype": "text/x-python",
   "name": "python",
   "nbconvert_exporter": "python",
   "pygments_lexer": "ipython3",
   "version": "3.12.8"
  }
 },
 "nbformat": 4,
 "nbformat_minor": 5
}
